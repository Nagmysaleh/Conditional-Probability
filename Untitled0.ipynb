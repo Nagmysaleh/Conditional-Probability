{
  "nbformat": 4,
  "nbformat_minor": 0,
  "metadata": {
    "colab": {
      "name": "Untitled0.ipynb",
      "provenance": [],
      "authorship_tag": "ABX9TyNNK8sRE/qA3v0kkWU31OpE",
      "include_colab_link": true
    },
    "kernelspec": {
      "name": "python3",
      "display_name": "Python 3"
    },
    "language_info": {
      "name": "python"
    }
  },
  "cells": [
    {
      "cell_type": "markdown",
      "metadata": {
        "id": "view-in-github",
        "colab_type": "text"
      },
      "source": [
        "<a href=\"https://colab.research.google.com/github/Nagmysaleh/Conditional-Probability/blob/main/Untitled0.ipynb\" target=\"_parent\"><img src=\"https://colab.research.google.com/assets/colab-badge.svg\" alt=\"Open In Colab\"/></a>"
      ]
    },
    {
      "cell_type": "markdown",
      "metadata": {
        "id": "awVMvLPHYH_E"
      },
      "source": [
        "Homework1(Conditional Probability)\n",
        "\n",
        "\n",
        "Diagnostic Test Scenario\n",
        "\n",
        "\n",
        "Scenario: Consider a human population that may or may not have cancer (Cancer (A) is True or False) and a medical test that returns positive or negative for detecting cancer (Test (B) is Positive or Negative), e.g. like a mammogram for detecting breast cancer.*italicized text*\n",
        "\n",
        "Problem: If a randomly selected patient has the test and it comes back positive, what is the probability that the patient has cancer?"
      ]
    },
    {
      "cell_type": "code",
      "metadata": {
        "colab": {
          "base_uri": "https://localhost:8080/"
        },
        "id": "xFoApo8QYIb_",
        "outputId": "1bd74343-2063-4010-b733-72488a68695a"
      },
      "source": [
        "# calculate the probability of cancer patient and diagnostic test\n",
        " \n",
        "# calculate P(A|B) given P(A), P(B|A), P(B|not A)\n",
        "def bayes_theorem(p_a, p_b_given_a, p_b_given_not_a):\n",
        "\t# calculate P(not A)\n",
        "\tnot_a = 1 - p_a\n",
        "\t# calculate P(B)\n",
        "\tp_b = p_b_given_a * p_a + p_b_given_not_a * not_a\n",
        "\t# calculate P(A|B)\n",
        "\tp_a_given_b = (p_b_given_a * p_a) / p_b\n",
        "\treturn p_a_given_b\n",
        " \n",
        "# P(A)\n",
        "p_a = 0.0002\n",
        "# P(B|A)\n",
        "p_b_given_a = 0.85\n",
        "# P(B|not A)\n",
        "p_b_given_not_a = 0.05\n",
        "# calculate P(A|B)\n",
        "result = bayes_theorem(p_a, p_b_given_a, p_b_given_not_a)\n",
        "# summarize\n",
        "print('P(A|B) = %.3f%%' % (result * 100))"
      ],
      "execution_count": 5,
      "outputs": [
        {
          "output_type": "stream",
          "text": [
            "P(A|B) = 0.339%\n"
          ],
          "name": "stdout"
        }
      ]
    }
  ]
}