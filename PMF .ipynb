{
  "nbformat": 4,
  "nbformat_minor": 0,
  "metadata": {
    "colab": {
      "name": "Untitled2.ipynb",
      "provenance": [],
      "authorship_tag": "ABX9TyP/l8V2GAG55aSonVaZD42m",
      "include_colab_link": true
    },
    "kernelspec": {
      "name": "python3",
      "display_name": "Python 3"
    },
    "language_info": {
      "name": "python"
    }
  },
  "cells": [
    {
      "cell_type": "markdown",
      "metadata": {
        "id": "view-in-github",
        "colab_type": "text"
      },
      "source": [
        "<a href=\"https://colab.research.google.com/github/Nagmysaleh/Conditional-Probability/blob/main/PMF%20.ipynb\" target=\"_parent\"><img src=\"https://colab.research.google.com/assets/colab-badge.svg\" alt=\"Open In Colab\"/></a>"
      ]
    },
    {
      "cell_type": "markdown",
      "metadata": {
        "id": "eHfsr1D6WMIF"
      },
      "source": [
        "Let’s roll a die an infinite number of times and look at the proportion of 1, the proportion of 2 and so on. Show the PMF distribution plot?\n",
        "\n",
        "We call x the random variable that corresponds to the outcome of the dice roll. Thus the random variable x can only take the following discrete values: 1, 2, 3, 4, 5 or 6. It is thus a discrete random variable.\n",
        "The aim of the probability mass function is to describe the probability of each possible value. In our example, it describes the probability to get a 1, the probability to get a 2 and so on. In the case of a dice rolling experiment, we have the same probability to get each value (if we assume that the die is perfect)."
      ]
    },
    {
      "cell_type": "code",
      "metadata": {
        "colab": {
          "base_uri": "https://localhost:8080/",
          "height": 276
        },
        "id": "s7LIUoyEWMeP",
        "outputId": "ca347a59-2815-4ee8-825c-952264680b83"
      },
      "source": [
        "num_throws = 10000\n",
        "outcomes = np.zeros(num_throws)\n",
        "for i in range(num_throws):\n",
        "    # let's roll the die\n",
        "    outcome = np.random.choice(['1', '2', '3', '4', '5', '6'])\n",
        "    outcomes[i] = outcome\n",
        "\n",
        "\n",
        "val, cnt = np.unique(outcomes, return_counts=True)\n",
        "prop = cnt / len(outcomes)\n",
        "\n",
        "# Now that we have rolled our die 10000 times, let's plot the results\n",
        "plt.bar(val, prop)\n",
        "plt.ylabel(\"Probability\")\n",
        "plt.xlabel(\"Outcome\")\n",
        "plt.show()\n",
        "plt.close()"
      ],
      "execution_count": 12,
      "outputs": [
        {
          "output_type": "display_data",
          "data": {
            "image/png": "[encoded data removed]",
            "text/plain": [
              "<Figure size 432x288 with 1 Axes>"
            ]
          },
          "metadata": {
            "tags": []
          }
        }
      ]
    }
  ]
}