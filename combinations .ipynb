{
  "nbformat": 4,
  "nbformat_minor": 0,
  "metadata": {
    "colab": {
      "name": "Untitled1.ipynb",
      "provenance": [],
      "authorship_tag": "ABX9TyMgLmFwjJ0rRdOo6rwY1Xfc",
      "include_colab_link": true
    },
    "kernelspec": {
      "name": "python3",
      "display_name": "Python 3"
    },
    "language_info": {
      "name": "python"
    }
  },
  "cells": [
    {
      "cell_type": "markdown",
      "metadata": {
        "id": "view-in-github",
        "colab_type": "text"
      },
      "source": [
        "<a href=\"https://colab.research.google.com/github/Nagmysaleh/Conditional-Probability/blob/main/combinations%20.ipynb\" target=\"_parent\"><img src=\"https://colab.research.google.com/assets/colab-badge.svg\" alt=\"Open In Colab\"/></a>"
      ]
    },
    {
      "cell_type": "markdown",
      "metadata": {
        "id": "_kfgDA-8kmC7"
      },
      "source": [
        "Find all combinations containing exactly 2 letters from the word(ABC)."
      ]
    },
    {
      "cell_type": "code",
      "metadata": {
        "colab": {
          "base_uri": "https://localhost:8080/"
        },
        "id": "hwDqV7lQkmTm",
        "outputId": "59fff0f1-6e21-4b84-a80b-6a7bfb3029cf"
      },
      "source": [
        "import itertools\n",
        " \n",
        "st = \"ABCDE\"\n",
        " \n",
        "com = itertools.combinations(st, 2)\n",
        " \n",
        "for val in com:\n",
        "    print(*val)"
      ],
      "execution_count": 1,
      "outputs": [
        {
          "output_type": "stream",
          "text": [
            "A B\n",
            "A C\n",
            "A D\n",
            "A E\n",
            "B C\n",
            "B D\n",
            "B E\n",
            "C D\n",
            "C E\n",
            "D E\n"
          ],
          "name": "stdout"
        }
      ]
    }
  ]
}